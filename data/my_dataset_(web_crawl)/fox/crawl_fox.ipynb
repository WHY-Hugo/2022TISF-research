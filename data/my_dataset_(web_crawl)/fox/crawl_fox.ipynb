{
 "cells": [
  {
   "cell_type": "code",
   "execution_count": null,
   "id": "45ddfb5b-819b-49b9-a8da-62d5d25581d2",
   "metadata": {},
   "outputs": [],
   "source": [
    "!pip install selenium"
   ]
  },
  {
   "cell_type": "code",
   "execution_count": 1,
   "id": "219b2692-ebad-4401-a70f-a9ad7f4bc602",
   "metadata": {},
   "outputs": [],
   "source": [
    "import requests as rq\n",
    "import time\n",
    "import pandas as pd\n",
    "import numpy as np\n",
    "import csv\n",
    "from bs4 import BeautifulSoup as soup\n",
    "from selenium import webdriver\n",
    "from selenium.webdriver.support.ui import WebDriverWait\n",
    "from selenium.webdriver.support import expected_conditions as EC\n",
    "from selenium.webdriver.common.by import By\n",
    "from selenium.webdriver.common.keys import Keys"
   ]
  },
  {
   "cell_type": "code",
   "execution_count": 2,
   "id": "ad7eef0c-729b-4371-910d-b44e91da5c83",
   "metadata": {
    "tags": []
   },
   "outputs": [
    {
     "name": "stderr",
     "output_type": "stream",
     "text": [
      "<ipython-input-2-4843a8acfd2d>:5: DeprecationWarning: executable_path has been deprecated, please pass in a Service object\n",
      "  driver = webdriver.Chrome('/programing/programing_created-acer/fnc-1/chromedriver_win32/chromedriver.exe')\n"
     ]
    }
   ],
   "source": [
    "# ------ 設定要前往的網址 ------\n",
    "url = 'https://www.facebook.com'  \n",
    "\n",
    "# ------ 透過Browser Driver 開啟 Chrome ------\n",
    "driver = webdriver.Chrome('/programing/programing_created-acer/fnc-1/chromedriver_win32/chromedriver.exe')        \n",
    "\n",
    "# ------ 前往該網址 ------\n",
    "driver.get(url)   "
   ]
  },
  {
   "cell_type": "code",
   "execution_count": 3,
   "id": "040a8fba-f867-45c9-b89e-1d68fbe3ae1d",
   "metadata": {
    "tags": []
   },
   "outputs": [
    {
     "name": "stderr",
     "output_type": "stream",
     "text": [
      "<ipython-input-3-4e3b1f9a226c>:7: DeprecationWarning: find_element_by_* commands are deprecated. Please use find_element() instead\n",
      "  elem = driver.find_element_by_id(\"email\")\n",
      "<ipython-input-3-4e3b1f9a226c>:10: DeprecationWarning: find_element_by_* commands are deprecated. Please use find_element() instead\n",
      "  elem = driver.find_element_by_id(\"pass\")\n"
     ]
    }
   ],
   "source": [
    "# ------ 登入的帳號與密碼 ------\n",
    "username = 'hugo.tw.wang@gmail.com'\n",
    "password = '200531hwtw'\n",
    "\n",
    "# ------ 輸入帳號密碼 ------\n",
    "WebDriverWait(driver, 30).until(EC.presence_of_element_located((By.XPATH, '//*[@id=\"email\"]')))\n",
    "elem = driver.find_element_by_id(\"email\")\n",
    "elem.send_keys(username)\n",
    "\n",
    "elem = driver.find_element_by_id(\"pass\")\n",
    "elem.send_keys(password)        \n",
    "\n",
    "elem.send_keys(Keys.RETURN)\n",
    "time.sleep(5)"
   ]
  },
  {
   "cell_type": "code",
   "execution_count": 4,
   "id": "498461f0-d3c5-4299-8ccf-1e024cc97e8a",
   "metadata": {
    "tags": []
   },
   "outputs": [
    {
     "name": "stderr",
     "output_type": "stream",
     "text": [
      "<ipython-input-4-802b3cd2adc8>:2: DeprecationWarning: find_elements_by_* commands are deprecated. Please use find_elements() instead\n",
      "  if len(driver.find_elements_by_xpath(\"//*[contains(text(), '你的帳號暫時被鎖住')]\")) > 0:\n"
     ]
    }
   ],
   "source": [
    "#檢查有沒有被擋下來\n",
    "if len(driver.find_elements_by_xpath(\"//*[contains(text(), '你的帳號暫時被鎖住')]\")) > 0:\n",
    "    driver.find_elements_by_xpath(\"//*[contains(text(), '是')]\")[1].click()\n",
    "\n",
    "# 切換頁面\n",
    "spec_url = 'https://www.facebook.com/FoxNews'\n",
    "html = driver.get(spec_url)"
   ]
  },
  {
   "cell_type": "code",
   "execution_count": 5,
   "id": "3ab30d9b-1f60-4ad8-bb23-72478a5a0912",
   "metadata": {
    "tags": []
   },
   "outputs": [
    {
     "data": {
      "text/html": [
       "<div>\n",
       "<style scoped>\n",
       "    .dataframe tbody tr th:only-of-type {\n",
       "        vertical-align: middle;\n",
       "    }\n",
       "\n",
       "    .dataframe tbody tr th {\n",
       "        vertical-align: top;\n",
       "    }\n",
       "\n",
       "    .dataframe thead th {\n",
       "        text-align: right;\n",
       "    }\n",
       "</style>\n",
       "<table border=\"1\" class=\"dataframe\">\n",
       "  <thead>\n",
       "    <tr style=\"text-align: right;\">\n",
       "      <th></th>\n",
       "      <th>media name</th>\n",
       "      <th>media</th>\n",
       "      <th>post</th>\n",
       "      <th>link</th>\n",
       "      <th>time</th>\n",
       "    </tr>\n",
       "  </thead>\n",
       "  <tbody>\n",
       "    <tr>\n",
       "      <th>0</th>\n",
       "      <td>Fox News</td>\n",
       "      <td>FoxNews</td>\n",
       "      <td>0</td>\n",
       "      <td>0</td>\n",
       "      <td>0</td>\n",
       "    </tr>\n",
       "    <tr>\n",
       "      <th>1</th>\n",
       "      <td>Fox News</td>\n",
       "      <td>FoxNews</td>\n",
       "      <td>0</td>\n",
       "      <td>0</td>\n",
       "      <td>0</td>\n",
       "    </tr>\n",
       "  </tbody>\n",
       "</table>\n",
       "</div>"
      ],
      "text/plain": [
       "  media name    media  post  link  time\n",
       "0   Fox News  FoxNews     0     0     0\n",
       "1   Fox News  FoxNews     0     0     0"
      ]
     },
     "execution_count": 5,
     "metadata": {},
     "output_type": "execute_result"
    }
   ],
   "source": [
    "data = pd.DataFrame([[0,0,0,0,0],[0,0,0,0,0]], columns=['media name','media','post','link','time'])\n",
    "data['media name'] = 'Fox News'\n",
    "data['media'] = 'FoxNews'\n",
    "data\n",
    "#data.loc[post_num,column_name]"
   ]
  },
  {
   "cell_type": "code",
   "execution_count": 6,
   "id": "c091183e-c264-4493-8933-ad80ec2081aa",
   "metadata": {},
   "outputs": [
    {
     "name": "stdin",
     "output_type": "stream",
     "text": [
      "How many posts do you want? 20\n"
     ]
    },
    {
     "name": "stdout",
     "output_type": "stream",
     "text": [
      "10\n"
     ]
    }
   ],
   "source": [
    "n = int(input('How many posts do you want?'))\n",
    "j = 0\n",
    "for i in range(n):\n",
    "    if i-j == 10:\n",
    "        print(i)\n",
    "        j = i\n",
    "    time.sleep(5)\n",
    "    driver.execute_script('window.scrollTo(0, document.body.scrollHeight);')\n",
    "\n",
    "sp = soup(driver.page_source,'html.parser')\n",
    "post = sp.find_all(class_ = \"kvgmc6g5 cxmmr5t8 oygrvhab hcukyx3x c1et5uql ii04i59q\")\n",
    "time = sp.find_all(class_ = 'oajrlxb2 g5ia77u1 qu0x051f esr5mh6w e9989ue4 r7d6kgcz rq0escxv nhd2j8a9 nc684nl6 p7hjln8o kvgmc6g5 cxmmr5t8 oygrvhab hcukyx3x jb3vyjys rz4wbd8a qt6c0cv9 a8nywdso i1ao9s8h esuyzwwr f1sip0of lzcic4wl gmql0nx0 gpro0wi8 b1v8xokw')\n",
    "link = sp.find_all(class_ = \"oajrlxb2 g5ia77u1 qu0x051f esr5mh6w e9989ue4 r7d6kgcz rq0escxv nhd2j8a9 p7hjln8o kvgmc6g5 cxmmr5t8 oygrvhab hcukyx3x jb3vyjys rz4wbd8a qt6c0cv9 a8nywdso i1ao9s8h esuyzwwr f1sip0of lzcic4wl gmql0nx0 a8c37x1j p8dawk7l\")\n",
    "\n",
    "loc_count = 0\n",
    "loc_count2 = 0\n",
    "loc_count3 = 0\n",
    "\n",
    "for i in post:\n",
    "    data.loc[loc_count,'post'] = i.text\n",
    "    loc_count += 1\n",
    "\n",
    "for j in time:\n",
    "    data.loc[loc_count2,'time'] = j.text\n",
    "    loc_count2 += 1\n",
    "\n",
    "for k in link:\n",
    "    data.loc[loc_count3,'link'] = k['href']\n",
    "    loc_count3 += 1\n"
   ]
  },
  {
   "cell_type": "code",
   "execution_count": 16,
   "id": "cfe76c14-637d-40b3-a535-7e663f558861",
   "metadata": {},
   "outputs": [
    {
     "data": {
      "text/html": [
       "<div>\n",
       "<style scoped>\n",
       "    .dataframe tbody tr th:only-of-type {\n",
       "        vertical-align: middle;\n",
       "    }\n",
       "\n",
       "    .dataframe tbody tr th {\n",
       "        vertical-align: top;\n",
       "    }\n",
       "\n",
       "    .dataframe thead th {\n",
       "        text-align: right;\n",
       "    }\n",
       "</style>\n",
       "<table border=\"1\" class=\"dataframe\">\n",
       "  <thead>\n",
       "    <tr style=\"text-align: right;\">\n",
       "      <th></th>\n",
       "      <th>media name</th>\n",
       "      <th>media</th>\n",
       "      <th>post</th>\n",
       "      <th>link</th>\n",
       "      <th>time</th>\n",
       "    </tr>\n",
       "  </thead>\n",
       "  <tbody>\n",
       "    <tr>\n",
       "      <th>0</th>\n",
       "      <td>The New York Times</td>\n",
       "      <td>nytimes</td>\n",
       "      <td>The profane messages were revealed amid an inv...</td>\n",
       "      <td>https://l.facebook.com/l.php?u=https%3A%2F%2Fw...</td>\n",
       "      <td>15m</td>\n",
       "    </tr>\n",
       "    <tr>\n",
       "      <th>1</th>\n",
       "      <td>The New York Times</td>\n",
       "      <td>nytimes</td>\n",
       "      <td>‘Pretty cool and bad a-- isn’t it?’</td>\n",
       "      <td>https://l.facebook.com/l.php?u=https%3A%2F%2Fw...</td>\n",
       "      <td>34m</td>\n",
       "    </tr>\n",
       "    <tr>\n",
       "      <th>2</th>\n",
       "      <td>The New York Times</td>\n",
       "      <td>nytimes</td>\n",
       "      <td>NASA deems 1994 PC1 a 'potentially hazardous o...</td>\n",
       "      <td>https://l.facebook.com/l.php?u=https%3A%2F%2Fw...</td>\n",
       "      <td>54m</td>\n",
       "    </tr>\n",
       "    <tr>\n",
       "      <th>3</th>\n",
       "      <td>The New York Times</td>\n",
       "      <td>nytimes</td>\n",
       "      <td>Jason Miyares also announced investigations in...</td>\n",
       "      <td>https://l.facebook.com/l.php?u=https%3A%2F%2Fw...</td>\n",
       "      <td>tmS0lmpoun6911sour0mhmegh2ghu0lll3cd738t31</td>\n",
       "    </tr>\n",
       "    <tr>\n",
       "      <th>4</th>\n",
       "      <td>The New York Times</td>\n",
       "      <td>nytimes</td>\n",
       "      <td>'NEW DAY IN VIRGINIA': Virginia's new attorney...</td>\n",
       "      <td>https://l.facebook.com/l.php?u=https%3A%2F%2Fw...</td>\n",
       "      <td>tSh1ut1ht6pha7c91on1h0f1shoh9gmrlah1el91ud</td>\n",
       "    </tr>\n",
       "    <tr>\n",
       "      <th>...</th>\n",
       "      <td>...</td>\n",
       "      <td>...</td>\n",
       "      <td>...</td>\n",
       "      <td>...</td>\n",
       "      <td>...</td>\n",
       "    </tr>\n",
       "    <tr>\n",
       "      <th>62</th>\n",
       "      <td>The New York Times</td>\n",
       "      <td>nytimes</td>\n",
       "      <td>Cowboys fans who were at AT&amp;T Stadium watching...</td>\n",
       "      <td>https://l.facebook.com/l.php?u=https%3A%2F%2Fw...</td>\n",
       "      <td>tYegstSpe0rh9tdouguman9sty 2act2o 962r:cu1e917...</td>\n",
       "    </tr>\n",
       "    <tr>\n",
       "      <th>63</th>\n",
       "      <td>The New York Times</td>\n",
       "      <td>nytimes</td>\n",
       "      <td>Proceeds from the sweet treat will go towards ...</td>\n",
       "      <td>https://l.facebook.com/l.php?u=https%3A%2F%2Fw...</td>\n",
       "      <td>tYegstSpe0rh9tdouguman9sty 2act2o 962r:cu0e017...</td>\n",
       "    </tr>\n",
       "    <tr>\n",
       "      <th>64</th>\n",
       "      <td>The New York Times</td>\n",
       "      <td>nytimes</td>\n",
       "      <td>McGee was among more than 900 men to train in ...</td>\n",
       "      <td>https://l.facebook.com/l.php?u=https%3A%2F%2Fw...</td>\n",
       "      <td>YechtstShpoilmer4d59at9l0yns3 at54m o5r:ei0302...</td>\n",
       "    </tr>\n",
       "    <tr>\n",
       "      <th>65</th>\n",
       "      <td>The New York Times</td>\n",
       "      <td>nytimes</td>\n",
       "      <td>The now 26-year-old faces a short stay in a ju...</td>\n",
       "      <td>https://l.facebook.com/l.php?u=https%3A%2F%2Fw...</td>\n",
       "      <td>YechtstShpoilmer4d59at9l0yns3 at54m o5r:ei0001...</td>\n",
       "    </tr>\n",
       "    <tr>\n",
       "      <th>66</th>\n",
       "      <td>The New York Times</td>\n",
       "      <td>nytimes</td>\n",
       "      <td>The suspect reportedly has a multi-decade rap ...</td>\n",
       "      <td>https://l.facebook.com/l.php?u=https%3A%2F%2Fw...</td>\n",
       "      <td>YechtstShpoilmer4d59at9l0yns3 at54m o4r:ei0304...</td>\n",
       "    </tr>\n",
       "  </tbody>\n",
       "</table>\n",
       "<p>67 rows × 5 columns</p>\n",
       "</div>"
      ],
      "text/plain": [
       "            media name    media  \\\n",
       "0   The New York Times  nytimes   \n",
       "1   The New York Times  nytimes   \n",
       "2   The New York Times  nytimes   \n",
       "3   The New York Times  nytimes   \n",
       "4   The New York Times  nytimes   \n",
       "..                 ...      ...   \n",
       "62  The New York Times  nytimes   \n",
       "63  The New York Times  nytimes   \n",
       "64  The New York Times  nytimes   \n",
       "65  The New York Times  nytimes   \n",
       "66  The New York Times  nytimes   \n",
       "\n",
       "                                                 post  \\\n",
       "0   The profane messages were revealed amid an inv...   \n",
       "1                 ‘Pretty cool and bad a-- isn’t it?’   \n",
       "2   NASA deems 1994 PC1 a 'potentially hazardous o...   \n",
       "3   Jason Miyares also announced investigations in...   \n",
       "4   'NEW DAY IN VIRGINIA': Virginia's new attorney...   \n",
       "..                                                ...   \n",
       "62  Cowboys fans who were at AT&T Stadium watching...   \n",
       "63  Proceeds from the sweet treat will go towards ...   \n",
       "64  McGee was among more than 900 men to train in ...   \n",
       "65  The now 26-year-old faces a short stay in a ju...   \n",
       "66  The suspect reportedly has a multi-decade rap ...   \n",
       "\n",
       "                                                 link  \\\n",
       "0   https://l.facebook.com/l.php?u=https%3A%2F%2Fw...   \n",
       "1   https://l.facebook.com/l.php?u=https%3A%2F%2Fw...   \n",
       "2   https://l.facebook.com/l.php?u=https%3A%2F%2Fw...   \n",
       "3   https://l.facebook.com/l.php?u=https%3A%2F%2Fw...   \n",
       "4   https://l.facebook.com/l.php?u=https%3A%2F%2Fw...   \n",
       "..                                                ...   \n",
       "62  https://l.facebook.com/l.php?u=https%3A%2F%2Fw...   \n",
       "63  https://l.facebook.com/l.php?u=https%3A%2F%2Fw...   \n",
       "64  https://l.facebook.com/l.php?u=https%3A%2F%2Fw...   \n",
       "65  https://l.facebook.com/l.php?u=https%3A%2F%2Fw...   \n",
       "66  https://l.facebook.com/l.php?u=https%3A%2F%2Fw...   \n",
       "\n",
       "                                                 time  \n",
       "0                                                 15m  \n",
       "1                                                 34m  \n",
       "2                                                 54m  \n",
       "3          tmS0lmpoun6911sour0mhmegh2ghu0lll3cd738t31  \n",
       "4          tSh1ut1ht6pha7c91on1h0f1shoh9gmrlah1el91ud  \n",
       "..                                                ...  \n",
       "62  tYegstSpe0rh9tdouguman9sty 2act2o 962r:cu1e917...  \n",
       "63  tYegstSpe0rh9tdouguman9sty 2act2o 962r:cu0e017...  \n",
       "64  YechtstShpoilmer4d59at9l0yns3 at54m o5r:ei0302...  \n",
       "65  YechtstShpoilmer4d59at9l0yns3 at54m o5r:ei0001...  \n",
       "66  YechtstShpoilmer4d59at9l0yns3 at54m o4r:ei0304...  \n",
       "\n",
       "[67 rows x 5 columns]"
      ]
     },
     "execution_count": 16,
     "metadata": {},
     "output_type": "execute_result"
    }
   ],
   "source": [
    "data['media name'] = 'The New York Times'\n",
    "data['media'] = 'nytimes'\n",
    "data = data.dropna()\n",
    "data"
   ]
  },
  {
   "cell_type": "code",
   "execution_count": 24,
   "id": "0c961417-10c2-4fb3-be02-4f1ff9e7e69f",
   "metadata": {},
   "outputs": [
    {
     "data": {
      "text/plain": [
       "'https://l.facebook.com/l.php?u=https%3A%2F%2Fwww.foxnews.com%2Fpolitics%2Ftrans-women-athletes-competitive-edge-testosterone-suppression-scientists%3Ffbclid%3DIwAR1v32ItJm2E6X6Omvwzy5TeOCPzgJT9I6m5LexQVj0VUPOFRaCf_T9GQk4&h=AT1S4Y6hv-Xge6tEeeWLvNZCn7mRYFy__uzcIRyIKbXJaJMZVOZyl3iy1UceQts7udLEiy7xa5n0_nswb_KX8UIl-b-HXXBrbQiyxGJPaeJ_ZLQmMx5HewJnMz7j6fVp58Qu9jG4RbKxJDCv1ato&__tn__=%2CmH-R&c[0]=AT0aHpopROYGhYy50eOnG14fjqXDLEQBpqbBC_LqZsnv82itePFydUPaEIAlqEx6uP0OxBJ5_Z5-K6UCo9qMSPpBnQTz_q8Wut6DfzaWIKGTcm5VlXFdksG6oYqynfJcoRiJ1sgkR5WjSZVXyteVG6cf0YbZXlejoGbyfkCZ9YuxVv1X'"
      ]
     },
     "execution_count": 24,
     "metadata": {},
     "output_type": "execute_result"
    }
   ],
   "source": [
    "data.loc[30,'link']"
   ]
  },
  {
   "cell_type": "code",
   "execution_count": null,
   "id": "0b0eeedf-3547-4ed6-ae66-f41ad4c13f66",
   "metadata": {},
   "outputs": [],
   "source": [
    "data.to_csv('nytimes_.csv', encoding='utf_8')"
   ]
  },
  {
   "cell_type": "code",
   "execution_count": null,
   "id": "72983229-c1f6-479f-86b8-6b7e62afb414",
   "metadata": {},
   "outputs": [],
   "source": []
  },
  {
   "cell_type": "markdown",
   "id": "360f4303-46aa-4971-af21-a2f571b3a5f8",
   "metadata": {},
   "source": [
    "## Lab Area"
   ]
  },
  {
   "cell_type": "code",
   "execution_count": null,
   "id": "1b71fca1-7d07-48b0-8600-20cd92b27d0b",
   "metadata": {},
   "outputs": [],
   "source": [
    "sp = soup(html.text, 'html.parser')\n",
    "data1 = sp.select('#facebook mount jsc_c_7e')\n",
    "\n",
    "for d in data1:\n",
    "    urls.append('https://www.ftvnews.com.tw' + d.get('href'))\n",
    "    \n",
    "text_news = ''  \n",
    "i = 1\n",
    "list_ = []\n",
    "for url in urls:\n",
    "    text_news = ''\n",
    "    t = ''\n",
    "    html = requests.get(url)\n",
    "    sp = soup(html.text, 'html.parser')\n",
    "    data1 = sp.select('#contentarea p')\n",
    "    print(f'第{i}則')\n",
    "    \n",
    "    for d in data1:\n",
    "        if d.text.find('延伸閱讀') != -1:\n",
    "            break\n",
    "        if d.text != '':\n",
    "            text_news += d.text\n",
    "    i += 1\n",
    "    print(text_news)\n",
    "    "
   ]
  },
  {
   "cell_type": "code",
   "execution_count": null,
   "id": "68381e22-ce2c-493a-a8c5-7957d3857da1",
   "metadata": {},
   "outputs": [],
   "source": [
    "import time\n",
    "\n",
    "print(\"Start : %s\" % time.ctime())\n",
    "time.sleep( 5 )\n",
    "print(\"End : %s\" % time.ctime())"
   ]
  },
  {
   "cell_type": "code",
   "execution_count": null,
   "id": "59f06b39-dc08-42b3-ae2c-b03b21465d9d",
   "metadata": {},
   "outputs": [],
   "source": []
  }
 ],
 "metadata": {
  "kernelspec": {
   "display_name": "Python 3",
   "language": "python",
   "name": "python3"
  },
  "language_info": {
   "codemirror_mode": {
    "name": "ipython",
    "version": 3
   },
   "file_extension": ".py",
   "mimetype": "text/x-python",
   "name": "python",
   "nbconvert_exporter": "python",
   "pygments_lexer": "ipython3",
   "version": "3.8.8"
  }
 },
 "nbformat": 4,
 "nbformat_minor": 5
}
