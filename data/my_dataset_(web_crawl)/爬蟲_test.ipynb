{
 "cells": [
  {
   "cell_type": "code",
   "execution_count": null,
   "id": "52ea512f-e89f-472b-9a68-58b3c1bbe636",
   "metadata": {},
   "outputs": [],
   "source": [
    "from selenium import webdriver\n",
    "import requests as rq\n",
    "\n",
    "#driver = webdriver.Chrome('/programing/programing_created-acer/fnc-1/chromedriver_win32/chromedriver.exe')        \n",
    "\n",
    "u1 = 'https://www.ahs.nccu.edu.tw/ischool/public/news_view/show.php?nid=10121'\n",
    "u2 = 'https://www.ahs.nccu.edu.tw/ischool/public/news_view/show.php?nid=10122'\n",
    "u3 = 'https://www.ahs.nccu.edu.tw/ischool/public/news_view/show.php?nid=10124'\n",
    "\n",
    "control = input('are you ready?')\n",
    "while control == 'y':\n",
    "    rq.get(u1)\n",
    "    rq.get(u2)\n",
    "    rq.get(u3)"
   ]
  },
  {
   "cell_type": "code",
   "execution_count": 4,
   "id": "1db76dba-f621-45ab-845b-90bec9568e9d",
   "metadata": {},
   "outputs": [],
   "source": [
    "from selenium import webdriver\n",
    "import requests as rq\n",
    "\n",
    "#driver = webdriver.Chrome('/programing/programing_created-acer/fnc-1/chromedriver_win32/chromedriver.exe')        \n",
    "\n",
    "u = 'https://www.ahs.nccu.edu.tw/ischool/public/news_view/show.php?nid=10101'\n",
    "\n",
    "\n",
    "for i in range(9):\n",
    "    rq.get(u)"
   ]
  },
  {
   "cell_type": "code",
   "execution_count": null,
   "id": "8ecc10c9-47e9-4368-9653-48c679429660",
   "metadata": {},
   "outputs": [],
   "source": []
  }
 ],
 "metadata": {
  "kernelspec": {
   "display_name": "Python 3",
   "language": "python",
   "name": "python3"
  },
  "language_info": {
   "codemirror_mode": {
    "name": "ipython",
    "version": 3
   },
   "file_extension": ".py",
   "mimetype": "text/x-python",
   "name": "python",
   "nbconvert_exporter": "python",
   "pygments_lexer": "ipython3",
   "version": "3.8.8"
  }
 },
 "nbformat": 4,
 "nbformat_minor": 5
}
