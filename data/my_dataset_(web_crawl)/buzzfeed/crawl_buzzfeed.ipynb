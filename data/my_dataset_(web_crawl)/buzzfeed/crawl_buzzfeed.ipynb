{
 "cells": [
  {
   "cell_type": "code",
   "execution_count": null,
   "id": "45ddfb5b-819b-49b9-a8da-62d5d25581d2",
   "metadata": {},
   "outputs": [],
   "source": [
    "!pip install selenium"
   ]
  },
  {
   "cell_type": "code",
   "execution_count": 1,
   "id": "219b2692-ebad-4401-a70f-a9ad7f4bc602",
   "metadata": {},
   "outputs": [],
   "source": [
    "import requests as rq\n",
    "import time\n",
    "import pandas as pd\n",
    "import numpy as np\n",
    "import csv\n",
    "from bs4 import BeautifulSoup as soup\n",
    "from selenium import webdriver\n",
    "from selenium.webdriver.support.ui import WebDriverWait\n",
    "from selenium.webdriver.support import expected_conditions as EC\n",
    "from selenium.webdriver.common.by import By\n",
    "from selenium.webdriver.common.keys import Keys"
   ]
  },
  {
   "cell_type": "code",
   "execution_count": 2,
   "id": "ad7eef0c-729b-4371-910d-b44e91da5c83",
   "metadata": {
    "tags": []
   },
   "outputs": [
    {
     "name": "stderr",
     "output_type": "stream",
     "text": [
      "<ipython-input-2-4843a8acfd2d>:5: DeprecationWarning: executable_path has been deprecated, please pass in a Service object\n",
      "  driver = webdriver.Chrome('/programing/programing_created-acer/fnc-1/chromedriver_win32/chromedriver.exe')\n"
     ]
    }
   ],
   "source": [
    "# ------ 設定要前往的網址 ------\n",
    "url = 'https://www.facebook.com'  \n",
    "\n",
    "# ------ 透過Browser Driver 開啟 Chrome ------\n",
    "driver = webdriver.Chrome('/programing/programing_created-acer/fnc-1/chromedriver_win32/chromedriver.exe')        \n",
    "\n",
    "# ------ 前往該網址 ------\n",
    "driver.get(url)   "
   ]
  },
  {
   "cell_type": "code",
   "execution_count": 3,
   "id": "040a8fba-f867-45c9-b89e-1d68fbe3ae1d",
   "metadata": {
    "tags": []
   },
   "outputs": [
    {
     "name": "stderr",
     "output_type": "stream",
     "text": [
      "<ipython-input-3-4e3b1f9a226c>:7: DeprecationWarning: find_element_by_* commands are deprecated. Please use find_element() instead\n",
      "  elem = driver.find_element_by_id(\"email\")\n",
      "<ipython-input-3-4e3b1f9a226c>:10: DeprecationWarning: find_element_by_* commands are deprecated. Please use find_element() instead\n",
      "  elem = driver.find_element_by_id(\"pass\")\n"
     ]
    }
   ],
   "source": [
    "# ------ 登入的帳號與密碼 ------\n",
    "username = 'hugo.tw.wang@gmail.com'\n",
    "password = ''\n",
    "\n",
    "# ------ 輸入帳號密碼 ------\n",
    "WebDriverWait(driver, 30).until(EC.presence_of_element_located((By.XPATH, '//*[@id=\"email\"]')))\n",
    "elem = driver.find_element_by_id(\"email\")\n",
    "elem.send_keys(username)\n",
    "\n",
    "elem = driver.find_element_by_id(\"pass\")\n",
    "elem.send_keys(password)        \n",
    "\n",
    "elem.send_keys(Keys.RETURN)\n",
    "time.sleep(5)"
   ]
  },
  {
   "cell_type": "code",
   "execution_count": 4,
   "id": "498461f0-d3c5-4299-8ccf-1e024cc97e8a",
   "metadata": {
    "tags": []
   },
   "outputs": [
    {
     "name": "stderr",
     "output_type": "stream",
     "text": [
      "<ipython-input-4-0e41ddac1ebd>:2: DeprecationWarning: find_elements_by_* commands are deprecated. Please use find_elements() instead\n",
      "  if len(driver.find_elements_by_xpath(\"//*[contains(text(), '你的帳號暫時被鎖住')]\")) > 0:\n"
     ]
    }
   ],
   "source": [
    "#檢查有沒有被擋下來\n",
    "if len(driver.find_elements_by_xpath(\"//*[contains(text(), '你的帳號暫時被鎖住')]\")) > 0:\n",
    "    driver.find_elements_by_xpath(\"//*[contains(text(), '是')]\")[1].click()\n",
    "\n",
    "# 切換頁面\n",
    "spec_url = 'https://www.facebook.com/BuzzFeedNews'\n",
    "html = driver.get(spec_url)"
   ]
  },
  {
   "cell_type": "code",
   "execution_count": 5,
   "id": "3ab30d9b-1f60-4ad8-bb23-72478a5a0912",
   "metadata": {
    "tags": []
   },
   "outputs": [
    {
     "data": {
      "text/html": [
       "<div>\n",
       "<style scoped>\n",
       "    .dataframe tbody tr th:only-of-type {\n",
       "        vertical-align: middle;\n",
       "    }\n",
       "\n",
       "    .dataframe tbody tr th {\n",
       "        vertical-align: top;\n",
       "    }\n",
       "\n",
       "    .dataframe thead th {\n",
       "        text-align: right;\n",
       "    }\n",
       "</style>\n",
       "<table border=\"1\" class=\"dataframe\">\n",
       "  <thead>\n",
       "    <tr style=\"text-align: right;\">\n",
       "      <th></th>\n",
       "      <th>media name</th>\n",
       "      <th>media</th>\n",
       "      <th>post</th>\n",
       "      <th>link</th>\n",
       "      <th>time</th>\n",
       "    </tr>\n",
       "  </thead>\n",
       "  <tbody>\n",
       "    <tr>\n",
       "      <th>0</th>\n",
       "      <td>BuzzFeed News</td>\n",
       "      <td>BuzzFeedNews</td>\n",
       "      <td>0</td>\n",
       "      <td>0</td>\n",
       "      <td>0</td>\n",
       "    </tr>\n",
       "    <tr>\n",
       "      <th>1</th>\n",
       "      <td>BuzzFeed News</td>\n",
       "      <td>BuzzFeedNews</td>\n",
       "      <td>0</td>\n",
       "      <td>0</td>\n",
       "      <td>0</td>\n",
       "    </tr>\n",
       "  </tbody>\n",
       "</table>\n",
       "</div>"
      ],
      "text/plain": [
       "      media name         media  post  link  time\n",
       "0  BuzzFeed News  BuzzFeedNews     0     0     0\n",
       "1  BuzzFeed News  BuzzFeedNews     0     0     0"
      ]
     },
     "execution_count": 5,
     "metadata": {},
     "output_type": "execute_result"
    }
   ],
   "source": [
    "data = pd.DataFrame([[0,0,0,0,0],[0,0,0,0,0]], columns=['media name','media','post','link','time'])\n",
    "data['media name'] = 'BuzzFeed News'\n",
    "data['media'] = 'BuzzFeedNews'\n",
    "data\n",
    "#data.loc[post_num,column_name]"
   ]
  },
  {
   "cell_type": "code",
   "execution_count": 6,
   "id": "c091183e-c264-4493-8933-ad80ec2081aa",
   "metadata": {},
   "outputs": [
    {
     "name": "stdin",
     "output_type": "stream",
     "text": [
      "How many posts do you want? 150\n"
     ]
    },
    {
     "name": "stdout",
     "output_type": "stream",
     "text": [
      "10\n",
      "20\n",
      "30\n",
      "40\n",
      "50\n",
      "60\n",
      "70\n",
      "80\n",
      "90\n",
      "100\n",
      "110\n",
      "120\n",
      "130\n",
      "140\n"
     ]
    },
    {
     "ename": "TypeError",
     "evalue": "'module' object is not iterable",
     "output_type": "error",
     "traceback": [
      "\u001b[1;31m---------------------------------------------------------------------------\u001b[0m",
      "\u001b[1;31mTypeError\u001b[0m                                 Traceback (most recent call last)",
      "\u001b[1;32m<ipython-input-6-9816e983bd55>\u001b[0m in \u001b[0;36m<module>\u001b[1;34m\u001b[0m\n\u001b[0;32m     22\u001b[0m     \u001b[0mloc_count\u001b[0m \u001b[1;33m+=\u001b[0m \u001b[1;36m1\u001b[0m\u001b[1;33m\u001b[0m\u001b[1;33m\u001b[0m\u001b[0m\n\u001b[0;32m     23\u001b[0m \u001b[1;33m\u001b[0m\u001b[0m\n\u001b[1;32m---> 24\u001b[1;33m \u001b[1;32mfor\u001b[0m \u001b[0mj\u001b[0m \u001b[1;32min\u001b[0m \u001b[0mtime\u001b[0m\u001b[1;33m:\u001b[0m\u001b[1;33m\u001b[0m\u001b[1;33m\u001b[0m\u001b[0m\n\u001b[0m\u001b[0;32m     25\u001b[0m     \u001b[0mdata\u001b[0m\u001b[1;33m.\u001b[0m\u001b[0mloc\u001b[0m\u001b[1;33m[\u001b[0m\u001b[0mloc_count2\u001b[0m\u001b[1;33m,\u001b[0m\u001b[1;34m'time'\u001b[0m\u001b[1;33m]\u001b[0m \u001b[1;33m=\u001b[0m \u001b[0mj\u001b[0m\u001b[1;33m.\u001b[0m\u001b[0mtext\u001b[0m\u001b[1;33m\u001b[0m\u001b[1;33m\u001b[0m\u001b[0m\n\u001b[0;32m     26\u001b[0m     \u001b[0mloc_count2\u001b[0m \u001b[1;33m+=\u001b[0m \u001b[1;36m1\u001b[0m\u001b[1;33m\u001b[0m\u001b[1;33m\u001b[0m\u001b[0m\n",
      "\u001b[1;31mTypeError\u001b[0m: 'module' object is not iterable"
     ]
    }
   ],
   "source": [
    "n = int(input('How many posts do you want?'))\n",
    "j = 0\n",
    "for i in range(n):\n",
    "    if i-j == 10:\n",
    "        print(i)\n",
    "        j = i\n",
    "    driver.execute_script('window.scrollTo(0, document.body.scrollHeight)')\n",
    "    time.sleep(5)\n",
    "\n",
    "sp = soup(driver.page_source,'html.parser')\n",
    "post = sp.find_all(class_ = \"kvgmc6g5 cxmmr5t8 oygrvhab hcukyx3x c1et5uql ii04i59q\")\n",
    "link = sp.find_all('a', {'class':'oajrlxb2 g5ia77u1 qu0x051f esr5mh6w e9989ue4 r7d6kgcz rq0escxv nhd2j8a9 p7hjln8o kvgmc6g5 cxmmr5t8 oygrvhab hcukyx3x jb3vyjys rz4wbd8a qt6c0cv9 a8nywdso i1ao9s8h esuyzwwr f1sip0of lzcic4wl gmql0nx0 a8c37x1j p8dawk7l'})\n",
    "#time = sp.find_all('span', {\n",
    "    #'class': 't5a262vz nc684nl6 ihxqhq3m l94mrbxd aenfhxwr l9j0dhe7 sdhka5h4'})\n",
    "\n",
    "loc_count = 0\n",
    "loc_count2 = 0\n",
    "loc_count3 = 0\n",
    "\n",
    "for i in post:\n",
    "    data.loc[loc_count,'post'] = i.text\n",
    "    loc_count += 1\n",
    "\n",
    "for j in time:\n",
    "    data.loc[loc_count2,'time'] = j.text\n",
    "    loc_count2 += 1\n",
    "\n",
    "for k in link:\n",
    "    data.loc[loc_count3,'link'] = k['href']\n",
    "    loc_count3 += 1\n"
   ]
  },
  {
   "cell_type": "code",
   "execution_count": 8,
   "id": "fb356189-38e3-449e-8d71-268ad9357a18",
   "metadata": {},
   "outputs": [],
   "source": [
    "for k in link:\n",
    "    data.loc[loc_count3,'link'] = k['href']\n",
    "    loc_count3 += 1"
   ]
  },
  {
   "cell_type": "code",
   "execution_count": 9,
   "id": "cfe76c14-637d-40b3-a535-7e663f558861",
   "metadata": {},
   "outputs": [
    {
     "data": {
      "text/html": [
       "<div>\n",
       "<style scoped>\n",
       "    .dataframe tbody tr th:only-of-type {\n",
       "        vertical-align: middle;\n",
       "    }\n",
       "\n",
       "    .dataframe tbody tr th {\n",
       "        vertical-align: top;\n",
       "    }\n",
       "\n",
       "    .dataframe thead th {\n",
       "        text-align: right;\n",
       "    }\n",
       "</style>\n",
       "<table border=\"1\" class=\"dataframe\">\n",
       "  <thead>\n",
       "    <tr style=\"text-align: right;\">\n",
       "      <th></th>\n",
       "      <th>media name</th>\n",
       "      <th>media</th>\n",
       "      <th>post</th>\n",
       "      <th>link</th>\n",
       "      <th>time</th>\n",
       "    </tr>\n",
       "  </thead>\n",
       "  <tbody>\n",
       "    <tr>\n",
       "      <th>0</th>\n",
       "      <td>BuzzFeed News</td>\n",
       "      <td>BuzzFeedNews</td>\n",
       "      <td>For people under guardianship, like Britney Sp...</td>\n",
       "      <td>https://l.facebook.com/l.php?u=https%3A%2F%2Fw...</td>\n",
       "      <td>0.0</td>\n",
       "    </tr>\n",
       "    <tr>\n",
       "      <th>1</th>\n",
       "      <td>BuzzFeed News</td>\n",
       "      <td>BuzzFeedNews</td>\n",
       "      <td>\"I knew I would be addressing you, my beloved ...</td>\n",
       "      <td>https://l.facebook.com/l.php?u=https%3A%2F%2Fw...</td>\n",
       "      <td>0.0</td>\n",
       "    </tr>\n",
       "    <tr>\n",
       "      <th>2</th>\n",
       "      <td>BuzzFeed News</td>\n",
       "      <td>BuzzFeedNews</td>\n",
       "      <td>When it comes to treatment with monoclonal ant...</td>\n",
       "      <td>https://l.facebook.com/l.php?u=https%3A%2F%2Fw...</td>\n",
       "      <td>NaN</td>\n",
       "    </tr>\n",
       "    <tr>\n",
       "      <th>3</th>\n",
       "      <td>BuzzFeed News</td>\n",
       "      <td>BuzzFeedNews</td>\n",
       "      <td>There’s a very American reason for why Prince ...</td>\n",
       "      <td>https://l.facebook.com/l.php?u=https%3A%2F%2Fw...</td>\n",
       "      <td>NaN</td>\n",
       "    </tr>\n",
       "    <tr>\n",
       "      <th>4</th>\n",
       "      <td>BuzzFeed News</td>\n",
       "      <td>BuzzFeedNews</td>\n",
       "      <td>Scavino filed the lawsuit under his name after...</td>\n",
       "      <td>https://www.buzzfeednews.com/article/zoetillma...</td>\n",
       "      <td>NaN</td>\n",
       "    </tr>\n",
       "    <tr>\n",
       "      <th>...</th>\n",
       "      <td>...</td>\n",
       "      <td>...</td>\n",
       "      <td>...</td>\n",
       "      <td>...</td>\n",
       "      <td>...</td>\n",
       "    </tr>\n",
       "    <tr>\n",
       "      <th>646</th>\n",
       "      <td>BuzzFeed News</td>\n",
       "      <td>BuzzFeedNews</td>\n",
       "      <td>Anna Sacks used a tongue-in-cheek “unboxing” v...</td>\n",
       "      <td>NaN</td>\n",
       "      <td>NaN</td>\n",
       "    </tr>\n",
       "    <tr>\n",
       "      <th>647</th>\n",
       "      <td>BuzzFeed News</td>\n",
       "      <td>BuzzFeedNews</td>\n",
       "      <td>“You can’t deny how hard I have tried / I chan...</td>\n",
       "      <td>NaN</td>\n",
       "      <td>NaN</td>\n",
       "    </tr>\n",
       "    <tr>\n",
       "      <th>648</th>\n",
       "      <td>BuzzFeed News</td>\n",
       "      <td>BuzzFeedNews</td>\n",
       "      <td>The Boeing 737 MAX was grounded around the wor...</td>\n",
       "      <td>NaN</td>\n",
       "      <td>NaN</td>\n",
       "    </tr>\n",
       "    <tr>\n",
       "      <th>649</th>\n",
       "      <td>BuzzFeed News</td>\n",
       "      <td>BuzzFeedNews</td>\n",
       "      <td>The multimillionaire, now 78 years old, is off...</td>\n",
       "      <td>NaN</td>\n",
       "      <td>NaN</td>\n",
       "    </tr>\n",
       "    <tr>\n",
       "      <th>650</th>\n",
       "      <td>BuzzFeed News</td>\n",
       "      <td>BuzzFeedNews</td>\n",
       "      <td>Murdaugh, whose wife and son were shot dead in...</td>\n",
       "      <td>NaN</td>\n",
       "      <td>NaN</td>\n",
       "    </tr>\n",
       "  </tbody>\n",
       "</table>\n",
       "<p>651 rows × 5 columns</p>\n",
       "</div>"
      ],
      "text/plain": [
       "        media name         media  \\\n",
       "0    BuzzFeed News  BuzzFeedNews   \n",
       "1    BuzzFeed News  BuzzFeedNews   \n",
       "2    BuzzFeed News  BuzzFeedNews   \n",
       "3    BuzzFeed News  BuzzFeedNews   \n",
       "4    BuzzFeed News  BuzzFeedNews   \n",
       "..             ...           ...   \n",
       "646  BuzzFeed News  BuzzFeedNews   \n",
       "647  BuzzFeed News  BuzzFeedNews   \n",
       "648  BuzzFeed News  BuzzFeedNews   \n",
       "649  BuzzFeed News  BuzzFeedNews   \n",
       "650  BuzzFeed News  BuzzFeedNews   \n",
       "\n",
       "                                                  post  \\\n",
       "0    For people under guardianship, like Britney Sp...   \n",
       "1    \"I knew I would be addressing you, my beloved ...   \n",
       "2    When it comes to treatment with monoclonal ant...   \n",
       "3    There’s a very American reason for why Prince ...   \n",
       "4    Scavino filed the lawsuit under his name after...   \n",
       "..                                                 ...   \n",
       "646  Anna Sacks used a tongue-in-cheek “unboxing” v...   \n",
       "647  “You can’t deny how hard I have tried / I chan...   \n",
       "648  The Boeing 737 MAX was grounded around the wor...   \n",
       "649  The multimillionaire, now 78 years old, is off...   \n",
       "650  Murdaugh, whose wife and son were shot dead in...   \n",
       "\n",
       "                                                  link  time  \n",
       "0    https://l.facebook.com/l.php?u=https%3A%2F%2Fw...   0.0  \n",
       "1    https://l.facebook.com/l.php?u=https%3A%2F%2Fw...   0.0  \n",
       "2    https://l.facebook.com/l.php?u=https%3A%2F%2Fw...   NaN  \n",
       "3    https://l.facebook.com/l.php?u=https%3A%2F%2Fw...   NaN  \n",
       "4    https://www.buzzfeednews.com/article/zoetillma...   NaN  \n",
       "..                                                 ...   ...  \n",
       "646                                                NaN   NaN  \n",
       "647                                                NaN   NaN  \n",
       "648                                                NaN   NaN  \n",
       "649                                                NaN   NaN  \n",
       "650                                                NaN   NaN  \n",
       "\n",
       "[651 rows x 5 columns]"
      ]
     },
     "execution_count": 9,
     "metadata": {},
     "output_type": "execute_result"
    }
   ],
   "source": [
    "data['media name'] = 'BuzzFeed News'\n",
    "data['media'] = 'BuzzFeedNews'\n",
    "data"
   ]
  },
  {
   "cell_type": "code",
   "execution_count": 13,
   "id": "72983229-c1f6-479f-86b8-6b7e62afb414",
   "metadata": {},
   "outputs": [
    {
     "data": {
      "text/plain": [
       "<bound method DataFrame.dropna of         media name         media  \\\n",
       "0    BuzzFeed News  BuzzFeedNews   \n",
       "1    BuzzFeed News  BuzzFeedNews   \n",
       "2    BuzzFeed News  BuzzFeedNews   \n",
       "3    BuzzFeed News  BuzzFeedNews   \n",
       "4    BuzzFeed News  BuzzFeedNews   \n",
       "..             ...           ...   \n",
       "273  BuzzFeed News  BuzzFeedNews   \n",
       "274  BuzzFeed News  BuzzFeedNews   \n",
       "275  BuzzFeed News  BuzzFeedNews   \n",
       "276  BuzzFeed News  BuzzFeedNews   \n",
       "277  BuzzFeed News  BuzzFeedNews   \n",
       "\n",
       "                                                  post  \\\n",
       "0    For people under guardianship, like Britney Sp...   \n",
       "1    “The close ties across the country means it is...   \n",
       "2    One hostage was released early Saturday evenin...   \n",
       "3    \"This was a senseless, absolutely senseless, a...   \n",
       "4    Satellite footage showed a massive plume of as...   \n",
       "..                                                 ...   \n",
       "273  Our favorite podcasts, newsletters, workout ap...   \n",
       "274  Sarah Jessica Parker, Cynthia Nixon And Kristi...   \n",
       "275  “Britney poignantly testified about the pain h...   \n",
       "276  In a long-awaited ruling, Judge Amit Mehta say...   \n",
       "277  Headphones, routers, projectors, and more weir...   \n",
       "\n",
       "                                                  link  \n",
       "0    https://l.facebook.com/l.php?u=https%3A%2F%2Fw...  \n",
       "1    https://l.facebook.com/l.php?u=https%3A%2F%2Fw...  \n",
       "2    https://l.facebook.com/l.php?u=https%3A%2F%2Fw...  \n",
       "3    https://l.facebook.com/l.php?u=https%3A%2F%2Fw...  \n",
       "4    https://l.facebook.com/l.php?u=https%3A%2F%2Fw...  \n",
       "..                                                 ...  \n",
       "273                                                NaN  \n",
       "274                                                NaN  \n",
       "275                                                NaN  \n",
       "276                                                NaN  \n",
       "277                                                NaN  \n",
       "\n",
       "[278 rows x 4 columns]>"
      ]
     },
     "execution_count": 13,
     "metadata": {},
     "output_type": "execute_result"
    }
   ],
   "source": [
    "data1 = data.drop('time', axis=1)\n",
    "data1 = data1.dropna\n",
    "data1"
   ]
  },
  {
   "cell_type": "code",
   "execution_count": 10,
   "id": "0b0eeedf-3547-4ed6-ae66-f41ad4c13f66",
   "metadata": {},
   "outputs": [],
   "source": [
    "data.to_csv('buzzfeed_0122.csv', encoding='utf_8')"
   ]
  },
  {
   "cell_type": "markdown",
   "id": "360f4303-46aa-4971-af21-a2f571b3a5f8",
   "metadata": {},
   "source": [
    "## Lab Area"
   ]
  },
  {
   "cell_type": "code",
   "execution_count": null,
   "id": "1b71fca1-7d07-48b0-8600-20cd92b27d0b",
   "metadata": {},
   "outputs": [],
   "source": [
    "sp = soup(html.text, 'html.parser')\n",
    "data1 = sp.select('#facebook mount jsc_c_7e')\n",
    "\n",
    "for d in data1:\n",
    "    urls.append('https://www.ftvnews.com.tw' + d.get('href'))\n",
    "    \n",
    "text_news = ''  \n",
    "i = 1\n",
    "list_ = []\n",
    "for url in urls:\n",
    "    text_news = ''\n",
    "    t = ''\n",
    "    html = requests.get(url)\n",
    "    sp = soup(html.text, 'html.parser')\n",
    "    data1 = sp.select('#contentarea p')\n",
    "    print(f'第{i}則')\n",
    "    \n",
    "    for d in data1:\n",
    "        if d.text.find('延伸閱讀') != -1:\n",
    "            break\n",
    "        if d.text != '':\n",
    "            text_news += d.text\n",
    "    i += 1\n",
    "    print(text_news)\n",
    "    "
   ]
  },
  {
   "cell_type": "code",
   "execution_count": null,
   "id": "68381e22-ce2c-493a-a8c5-7957d3857da1",
   "metadata": {},
   "outputs": [],
   "source": [
    "import time\n",
    "\n",
    "print(\"Start : %s\" % time.ctime())\n",
    "time.sleep( 5 )\n",
    "print(\"End : %s\" % time.ctime())"
   ]
  },
  {
   "cell_type": "code",
   "execution_count": null,
   "id": "59f06b39-dc08-42b3-ae2c-b03b21465d9d",
   "metadata": {},
   "outputs": [],
   "source": []
  }
 ],
 "metadata": {
  "kernelspec": {
   "display_name": "Python 3 (ipykernel)",
   "language": "python",
   "name": "python3"
  },
  "language_info": {
   "codemirror_mode": {
    "name": "ipython",
    "version": 3
   },
   "file_extension": ".py",
   "mimetype": "text/x-python",
   "name": "python",
   "nbconvert_exporter": "python",
   "pygments_lexer": "ipython3",
   "version": "3.10.5"
  }
 },
 "nbformat": 4,
 "nbformat_minor": 5
}
