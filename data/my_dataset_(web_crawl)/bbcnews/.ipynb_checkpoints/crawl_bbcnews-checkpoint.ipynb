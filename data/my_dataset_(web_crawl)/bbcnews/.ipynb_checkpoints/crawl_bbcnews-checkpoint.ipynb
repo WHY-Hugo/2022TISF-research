{
 "cells": [
  {
   "cell_type": "code",
   "execution_count": null,
   "id": "45ddfb5b-819b-49b9-a8da-62d5d25581d2",
   "metadata": {},
   "outputs": [],
   "source": [
    "!pip install selenium"
   ]
  },
  {
   "cell_type": "code",
   "execution_count": null,
   "id": "219b2692-ebad-4401-a70f-a9ad7f4bc602",
   "metadata": {},
   "outputs": [],
   "source": [
    "import requests as rq\n",
    "import time\n",
    "import pandas as pd\n",
    "import numpy as np\n",
    "import csv\n",
    "from bs4 import BeautifulSoup as soup\n",
    "from selenium import webdriver\n",
    "from selenium.webdriver.support.ui import WebDriverWait\n",
    "from selenium.webdriver.support import expected_conditions as EC\n",
    "from selenium.webdriver.common.by import By\n",
    "from selenium.webdriver.common.keys import Keys"
   ]
  },
  {
   "cell_type": "code",
   "execution_count": null,
   "id": "ad7eef0c-729b-4371-910d-b44e91da5c83",
   "metadata": {
    "tags": []
   },
   "outputs": [],
   "source": [
    "# ------ 設定要前往的網址 ------\n",
    "url = 'https://www.facebook.com'  \n",
    "\n",
    "# ------ 透過Browser Driver 開啟 Chrome ------\n",
    "driver = webdriver.Chrome('/programing/programing_created-acer/fnc-1/chromedriver_win32/chromedriver.exe')        \n",
    "\n",
    "# ------ 前往該網址 ------\n",
    "driver.get(url)   "
   ]
  },
  {
   "cell_type": "code",
   "execution_count": null,
   "id": "040a8fba-f867-45c9-b89e-1d68fbe3ae1d",
   "metadata": {
    "tags": []
   },
   "outputs": [],
   "source": [
    "# ------ 登入的帳號與密碼 ------\n",
    "username = 'hugo.tw.wang@gmail.com'\n",
    "password = '200531hwtw'\n",
    "\n",
    "# ------ 輸入帳號密碼 ------\n",
    "WebDriverWait(driver, 30).until(EC.presence_of_element_located((By.XPATH, '//*[@id=\"email\"]')))\n",
    "elem = driver.find_element_by_id(\"email\")\n",
    "elem.send_keys(username)\n",
    "\n",
    "elem = driver.find_element_by_id(\"pass\")\n",
    "elem.send_keys(password)        \n",
    "\n",
    "elem.send_keys(Keys.RETURN)\n",
    "time.sleep(5)"
   ]
  },
  {
   "cell_type": "code",
   "execution_count": null,
   "id": "498461f0-d3c5-4299-8ccf-1e024cc97e8a",
   "metadata": {
    "tags": []
   },
   "outputs": [],
   "source": [
    "#檢查有沒有被擋下來\n",
    "if len(driver.find_elements_by_xpath(\"//*[contains(text(), '你的帳號暫時被鎖住')]\")) > 0:\n",
    "    driver.find_elements_by_xpath(\"//*[contains(text(), '是')]\")[1].click()\n",
    "\n",
    "# 切換頁面\n",
    "spec_url = 'https://www.facebook.com/nytimes'\n",
    "html = driver.get(spec_url)"
   ]
  },
  {
   "cell_type": "code",
   "execution_count": null,
   "id": "3ab30d9b-1f60-4ad8-bb23-72478a5a0912",
   "metadata": {
    "tags": []
   },
   "outputs": [],
   "source": [
    "data = pd.DataFrame([[0,0,0,0,0],[0,0,0,0,0]], columns=['media name','media','post','link','time'])\n",
    "data['media name'] = 'The New York Times'\n",
    "data['media'] = 'nytimes'\n",
    "data\n",
    "#data.loc[post_num,column_name]"
   ]
  },
  {
   "cell_type": "code",
   "execution_count": null,
   "id": "c091183e-c264-4493-8933-ad80ec2081aa",
   "metadata": {},
   "outputs": [],
   "source": [
    "n = int(input('How many posts do you want?'))\n",
    "j = 0\n",
    "for i in range(n):\n",
    "    if i-j == 10:\n",
    "        print(i)\n",
    "        j = i\n",
    "    time.sleep(5)\n",
    "    driver.execute_script('window.scrollTo(0, document.body.scrollHeight);')\n",
    "\n",
    "sp = soup(driver.page_source,'html.parser')\n",
    "post = sp.find_all(class_ = \"kvgmc6g5 cxmmr5t8 oygrvhab hcukyx3x c1et5uql ii04i59q\")\n",
    "time = sp.find_all(class_ = 'oajrlxb2 g5ia77u1 qu0x051f esr5mh6w e9989ue4 r7d6kgcz rq0escxv nhd2j8a9 nc684nl6 p7hjln8o kvgmc6g5 cxmmr5t8 oygrvhab hcukyx3x jb3vyjys rz4wbd8a qt6c0cv9 a8nywdso i1ao9s8h esuyzwwr f1sip0of lzcic4wl gmql0nx0 gpro0wi8 b1v8xokw')\n",
    "link = sp.find_all(class_ = \"oajrlxb2 g5ia77u1 qu0x051f esr5mh6w e9989ue4 r7d6kgcz rq0escxv nhd2j8a9 p7hjln8o kvgmc6g5 cxmmr5t8 oygrvhab hcukyx3x jb3vyjys rz4wbd8a qt6c0cv9 a8nywdso i1ao9s8h esuyzwwr f1sip0of lzcic4wl gmql0nx0 a8c37x1j p8dawk7l\")\n",
    "\n",
    "loc_count = 0\n",
    "loc_count2 = 0\n",
    "loc_count3 = 0\n",
    "\n",
    "for i in post:\n",
    "    data.loc[loc_count,'post'] = i.text\n",
    "    loc_count += 1\n",
    "\n",
    "for j in time:\n",
    "    data.loc[loc_count2,'time'] = j.text\n",
    "    loc_count2 += 1\n",
    "\n",
    "for k in link:\n",
    "    data.loc[loc_count3,'link'] = k['href']\n",
    "    loc_count3 += 1\n"
   ]
  },
  {
   "cell_type": "code",
   "execution_count": null,
   "id": "cfe76c14-637d-40b3-a535-7e663f558861",
   "metadata": {},
   "outputs": [],
   "source": [
    "data['media name'] = 'The New York Times'\n",
    "data['media'] = 'nytimes'\n",
    "data"
   ]
  },
  {
   "cell_type": "code",
   "execution_count": null,
   "id": "0b0eeedf-3547-4ed6-ae66-f41ad4c13f66",
   "metadata": {},
   "outputs": [],
   "source": [
    "data.to_csv('nytimes_.csv', encoding='utf_8')"
   ]
  },
  {
   "cell_type": "code",
   "execution_count": null,
   "id": "72983229-c1f6-479f-86b8-6b7e62afb414",
   "metadata": {},
   "outputs": [],
   "source": []
  },
  {
   "cell_type": "markdown",
   "id": "360f4303-46aa-4971-af21-a2f571b3a5f8",
   "metadata": {},
   "source": [
    "## Lab Area"
   ]
  },
  {
   "cell_type": "code",
   "execution_count": null,
   "id": "1b71fca1-7d07-48b0-8600-20cd92b27d0b",
   "metadata": {},
   "outputs": [],
   "source": [
    "sp = soup(html.text, 'html.parser')\n",
    "data1 = sp.select('#facebook mount jsc_c_7e')\n",
    "\n",
    "for d in data1:\n",
    "    urls.append('https://www.ftvnews.com.tw' + d.get('href'))\n",
    "    \n",
    "text_news = ''  \n",
    "i = 1\n",
    "list_ = []\n",
    "for url in urls:\n",
    "    text_news = ''\n",
    "    t = ''\n",
    "    html = requests.get(url)\n",
    "    sp = soup(html.text, 'html.parser')\n",
    "    data1 = sp.select('#contentarea p')\n",
    "    print(f'第{i}則')\n",
    "    \n",
    "    for d in data1:\n",
    "        if d.text.find('延伸閱讀') != -1:\n",
    "            break\n",
    "        if d.text != '':\n",
    "            text_news += d.text\n",
    "    i += 1\n",
    "    print(text_news)\n",
    "    "
   ]
  },
  {
   "cell_type": "code",
   "execution_count": null,
   "id": "68381e22-ce2c-493a-a8c5-7957d3857da1",
   "metadata": {},
   "outputs": [],
   "source": [
    "import time\n",
    "\n",
    "print(\"Start : %s\" % time.ctime())\n",
    "time.sleep( 5 )\n",
    "print(\"End : %s\" % time.ctime())"
   ]
  },
  {
   "cell_type": "code",
   "execution_count": null,
   "id": "59f06b39-dc08-42b3-ae2c-b03b21465d9d",
   "metadata": {},
   "outputs": [],
   "source": []
  }
 ],
 "metadata": {
  "kernelspec": {
   "display_name": "Python 3",
   "language": "python",
   "name": "python3"
  },
  "language_info": {
   "codemirror_mode": {
    "name": "ipython",
    "version": 3
   },
   "file_extension": ".py",
   "mimetype": "text/x-python",
   "name": "python",
   "nbconvert_exporter": "python",
   "pygments_lexer": "ipython3",
   "version": "3.8.8"
  }
 },
 "nbformat": 4,
 "nbformat_minor": 5
}
